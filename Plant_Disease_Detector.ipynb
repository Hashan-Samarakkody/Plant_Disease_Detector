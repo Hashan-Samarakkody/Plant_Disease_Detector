{
  "nbformat": 4,
  "nbformat_minor": 0,
  "metadata": {
    "colab": {
      "provenance": [],
      "gpuType": "T4",
      "toc_visible": true,
      "include_colab_link": true
    },
    "kernelspec": {
      "name": "python3",
      "display_name": "Python 3"
    },
    "language_info": {
      "name": "python"
    },
    "accelerator": "GPU"
  },
  "cells": [
    {
      "cell_type": "markdown",
      "metadata": {
        "id": "view-in-github",
        "colab_type": "text"
      },
      "source": [
        "<a href=\"https://colab.research.google.com/github/Hashan-Samarakkody/Plant_Disease_Detector/blob/Development/Plant_Disease_Detector.ipynb\" target=\"_parent\"><img src=\"https://colab.research.google.com/assets/colab-badge.svg\" alt=\"Open In Colab\"/></a>"
      ]
    },
    {
      "cell_type": "markdown",
      "source": [
        "Plant Disease Detector is an advanced solution designed to identify and diagnose plant diseases using image recognition technology. This project aims to assist farmers, gardeners, and agricultural professionals in maintaining healthy plants by providing accurate and timely disease diagnoses."
      ],
      "metadata": {
        "id": "9Pt4WmmXmqOK"
      }
    },
    {
      "cell_type": "markdown",
      "source": [
        "# **Seeding for reproducibility**\n",
        "The following code is used to set the random seed for three libraries: Python's random module, NumPy, and TensorFlow. By doing this, the results of any operations that involve randomness are made reproducible. This means that each time the code is run, the same sequence of random numbers will be generated, ensuring consistent results."
      ],
      "metadata": {
        "id": "NT3XFf6P_aUN"
      }
    },
    {
      "cell_type": "code",
      "source": [
        "# Set seeds for reproducibility\n",
        "import random\n",
        "random.seed(0)\n",
        "\n",
        "import numpy as np\n",
        "np.random.seed(0)\n",
        "\n",
        "import tensorflow as tf\n",
        "tf.random.set_seed(0)"
      ],
      "metadata": {
        "id": "5KUHSymPoI-v"
      },
      "execution_count": 2,
      "outputs": []
    },
    {
      "cell_type": "markdown",
      "source": [],
      "metadata": {
        "id": "kin4lA3RASHx"
      }
    }
  ]
}